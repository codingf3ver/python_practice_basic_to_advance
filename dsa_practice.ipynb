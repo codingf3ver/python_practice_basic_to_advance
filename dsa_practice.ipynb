{
 "cells": [
  {
   "cell_type": "markdown",
   "metadata": {},
   "source": [
    "#### Strings questions"
   ]
  },
  {
   "cell_type": "code",
   "execution_count": null,
   "metadata": {},
   "outputs": [],
   "source": [
    "###1.Given a string, the task is to find the maximum consecutive repeating character in a string.\n",
    "# Note: We do not need to consider the overall count, but the count of repeating that appears in one\n",
    "\n",
    "# input='aaaaebbeeb'\n",
    "# output='a'"
   ]
  },
  {
   "cell_type": "code",
   "execution_count": 7,
   "metadata": {},
   "outputs": [],
   "source": [
    "def max_consecutive_string(s):\n",
    "\n",
    "    count=1\n",
    "    curr_count=0\n",
    "    res=0\n",
    "    size=len(s)\n",
    "    for i in range(size):\n",
    "        if (i<size-1 and s[i]==s[i+1]):\n",
    "            count+=1\n",
    "        else:\n",
    "            if curr_count<count:\n",
    "                curr_count=count\n",
    "                res=s[i]\n",
    "            count=0\n",
    "    return res\n",
    "\n",
    "result=max_consecutive_string(s='ebbeeee')"
   ]
  },
  {
   "cell_type": "code",
   "execution_count": 8,
   "metadata": {},
   "outputs": [
    {
     "name": "stdout",
     "output_type": "stream",
     "text": [
      "e\n"
     ]
    }
   ],
   "source": [
    "print(result)"
   ]
  },
  {
   "cell_type": "code",
   "execution_count": 1,
   "metadata": {},
   "outputs": [
    {
     "name": "stdout",
     "output_type": "stream",
     "text": [
      "test\n"
     ]
    }
   ],
   "source": [
    "print('test')"
   ]
  },
  {
   "cell_type": "code",
   "execution_count": null,
   "metadata": {},
   "outputs": [],
   "source": []
  }
 ],
 "metadata": {
  "kernelspec": {
   "display_name": "pracenv",
   "language": "python",
   "name": "python3"
  },
  "language_info": {
   "codemirror_mode": {
    "name": "ipython",
    "version": 3
   },
   "file_extension": ".py",
   "mimetype": "text/x-python",
   "name": "python",
   "nbconvert_exporter": "python",
   "pygments_lexer": "ipython3",
   "version": "3.12.2"
  }
 },
 "nbformat": 4,
 "nbformat_minor": 2
}
