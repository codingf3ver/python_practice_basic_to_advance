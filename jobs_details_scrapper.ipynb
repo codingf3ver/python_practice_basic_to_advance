{
 "cells": [
  {
   "cell_type": "code",
   "execution_count": 2,
   "metadata": {},
   "outputs": [],
   "source": [
    "from bs4 import BeautifulSoup\n",
    "import pandas as pd\n",
    "import requests\n",
    "import os"
   ]
  },
  {
   "cell_type": "code",
   "execution_count": 3,
   "metadata": {},
   "outputs": [],
   "source": [
    "url ='https://www.analyticsinsight.net/top-100-companies-for-data-scientists-in-india/'\n",
    "reponse = requests.get(url)"
   ]
  },
  {
   "cell_type": "code",
   "execution_count": 9,
   "metadata": {},
   "outputs": [],
   "source": [
    "soup = BeautifulSoup(reponse.content, 'html.parser')"
   ]
  },
  {
   "cell_type": "code",
   "execution_count": 12,
   "metadata": {},
   "outputs": [],
   "source": [
    "main_content = soup.find('div',class_='entry-content')"
   ]
  },
  {
   "cell_type": "code",
   "execution_count": 22,
   "metadata": {},
   "outputs": [],
   "source": [
    "company_records = main_content.find_all(['h4', 'p'], recursive=False)\n"
   ]
  },
  {
   "cell_type": "code",
   "execution_count": 86,
   "metadata": {},
   "outputs": [
    {
     "data": {
      "text/plain": [
       "[<p>‘Data is the new oil for modern businesses,’ a familiar statement that is making many changes in the technology radar. Organizations of all sizes and types from diverse industries produce large volumes of data. The increasing amount of data often comes in unstructured and raw forms. But fortunately, they hold the key to make enormous growth in companies. Getting the most out of data requires expertise in advanced data analytics tools and techniques. Henceforth, data science comes as a handy solution for companies dealing with data management crises. Data science plays a hectic role in the business as it deals with the exploration, evaluation, modelling and generation of meaningful insights from large datasets.</p>,\n",
       " <p>Data science is becoming mission-critical to many organizations. Therefore, the demand for data scientists is significantly spiking. Companies across domains need data science professionals at various means. Besides data scientists, there are various roles associated with the interdisciplinary field namely Data Engineers, Machine Learning Engineers, Data Architects, Big Data Engineers, etc.</p>,\n",
       " <p>Data science has become a sought-after career opportunity in India. The opening for data science professionals in the country is getting more void as technological adoption increases. Remarkably, companies are also willing to pay high-salaries for talented individuals. Big companies across diverse sectors, including technology, financial services, manufacturing, automotive, etc always welcome data scientists with open arms to drive innovation. The hunt for data scientists in India remains an endless tale. Henceforth, to make job seekers and employers work easy, Analytics Insight has listed the top 100 companies that are hiring data scientists in India.</p>,\n",
       " <p> </p>,\n",
       " <h4><strong>AB InBev India</strong></h4>,\n",
       " <p><strong>Location:</strong> Bengaluru</p>,\n",
       " <p><strong>Focus Area:</strong> FMCG, Beer, Brewing, Marketing, Distribution, Consumer Goods, Drinks, Technology, Operations, Analytics, Information Technology, and Financial Services</p>,\n",
       " <p><strong>Sector:</strong> Consumer Goods</p>,\n",
       " <p><strong>Average salary for data scientist:</strong> INR 16,08,000</p>]"
      ]
     },
     "execution_count": 86,
     "metadata": {},
     "output_type": "execute_result"
    }
   ],
   "source": [
    "company_records[1:10]"
   ]
  },
  {
   "cell_type": "code",
   "execution_count": 28,
   "metadata": {},
   "outputs": [
    {
     "data": {
      "text/plain": [
       "803"
      ]
     },
     "execution_count": 28,
     "metadata": {},
     "output_type": "execute_result"
    }
   ],
   "source": [
    "len(company_records)"
   ]
  },
  {
   "cell_type": "code",
   "execution_count": 50,
   "metadata": {},
   "outputs": [],
   "source": [
    "empty_ptag_index = []"
   ]
  },
  {
   "cell_type": "code",
   "execution_count": 51,
   "metadata": {},
   "outputs": [],
   "source": [
    "# all data is available in single class and company details not in specfici class \n",
    "# after thorough analysis I have find out the pattern that each company dtails is seperated with\n",
    "# an empty <p> tag and company name is in h4 tag rest of the details in <p> tags so I am finding out the\n",
    "# index of all empty so that I can iterated onwards\n",
    "for idx, company_name_tag in enumerate(company_records):\n",
    "    if company_name_tag.text.isspace():\n",
    "        empty_ptag_index.append(idx)\n"
   ]
  },
  {
   "cell_type": "code",
   "execution_count": 53,
   "metadata": {},
   "outputs": [
    {
     "data": {
      "text/plain": [
       "100"
      ]
     },
     "execution_count": 53,
     "metadata": {},
     "output_type": "execute_result"
    }
   ],
   "source": [
    "len(empty_ptag_index)"
   ]
  },
  {
   "cell_type": "code",
   "execution_count": 73,
   "metadata": {},
   "outputs": [
    {
     "data": {
      "text/plain": [
       "'https://www.ab-inbev.com/'"
      ]
     },
     "execution_count": 73,
     "metadata": {},
     "output_type": "execute_result"
    }
   ],
   "source": [
    "company_records[10].find('a').text"
   ]
  },
  {
   "cell_type": "code",
   "execution_count": 80,
   "metadata": {},
   "outputs": [],
   "source": [
    "df_company_desc_list = []\n",
    "for index in empty_ptag_index:\n",
    "    try:\n",
    "        company_name=[company_records[index+1].find('strong').text.strip()]\n",
    "        location=[company_records[index+2].text.split(':')[-1].strip()]\n",
    "        focus_area=[company_records[index+3].text.split(':')[-1].strip()]\n",
    "        sector=[company_records[index+4].text.split(':')[-1].strip()]\n",
    "        avg_salary=[company_records[index+5].text.split(':')[-1].strip()]\n",
    "        if company_records[index+6].find('a') is None:\n",
    "            website=[company_records[index+6].text.split(':')[-1].strip()]\n",
    "        else:\n",
    "            website=[company_records[index+6].find('a').text.strip()]\n",
    "        about_company=[company_records[index+7].text]\n",
    "        company_details_dict = {\n",
    "                                'company_name':company_name,\n",
    "                                'location':location,\n",
    "                                'focus_area':focus_area,\n",
    "                                'sector':sector,\n",
    "                                'avg_salary':avg_salary,\n",
    "                                'website':website,\n",
    "                                'about_company':about_company\n",
    "                                }\n",
    "        df_company_details=pd.DataFrame(company_details_dict)\n",
    "        df_company_desc_list.append(df_company_details)\n",
    "    except Exception as error:\n",
    "        print('error: ',error)\n",
    "        continue\n",
    "    "
   ]
  },
  {
   "cell_type": "code",
   "execution_count": 81,
   "metadata": {},
   "outputs": [],
   "source": [
    "df_final_company_desc = pd.concat(df_company_desc_list,ignore_index=True)"
   ]
  },
  {
   "cell_type": "code",
   "execution_count": 82,
   "metadata": {},
   "outputs": [
    {
     "data": {
      "text/plain": [
       "(100, 7)"
      ]
     },
     "execution_count": 82,
     "metadata": {},
     "output_type": "execute_result"
    }
   ],
   "source": [
    "df_final_company_desc.shape"
   ]
  },
  {
   "cell_type": "code",
   "execution_count": 83,
   "metadata": {},
   "outputs": [
    {
     "data": {
      "text/html": [
       "<div>\n",
       "<style scoped>\n",
       "    .dataframe tbody tr th:only-of-type {\n",
       "        vertical-align: middle;\n",
       "    }\n",
       "\n",
       "    .dataframe tbody tr th {\n",
       "        vertical-align: top;\n",
       "    }\n",
       "\n",
       "    .dataframe thead th {\n",
       "        text-align: right;\n",
       "    }\n",
       "</style>\n",
       "<table border=\"1\" class=\"dataframe\">\n",
       "  <thead>\n",
       "    <tr style=\"text-align: right;\">\n",
       "      <th></th>\n",
       "      <th>company_name</th>\n",
       "      <th>location</th>\n",
       "      <th>focus_area</th>\n",
       "      <th>sector</th>\n",
       "      <th>avg_salary</th>\n",
       "      <th>website</th>\n",
       "      <th>about_company</th>\n",
       "    </tr>\n",
       "  </thead>\n",
       "  <tbody>\n",
       "    <tr>\n",
       "      <th>0</th>\n",
       "      <td>AB InBev India</td>\n",
       "      <td>Bengaluru</td>\n",
       "      <td>FMCG, Beer, Brewing, Marketing, Distribution, ...</td>\n",
       "      <td>Consumer Goods</td>\n",
       "      <td>INR 16,08,000</td>\n",
       "      <td>https://www.ab-inbev.com/</td>\n",
       "      <td>AB InBev is a multinational beverage and brewi...</td>\n",
       "    </tr>\n",
       "    <tr>\n",
       "      <th>1</th>\n",
       "      <td>AbsolutData</td>\n",
       "      <td>Gurugram</td>\n",
       "      <td>BigData, Machine Learning, Artificial Intellig...</td>\n",
       "      <td>Information Technology &amp; Services</td>\n",
       "      <td>INR 10,00,000</td>\n",
       "      <td>https://www.absolutdata.com/</td>\n",
       "      <td>AbsolutData Research &amp; Analytics provides cons...</td>\n",
       "    </tr>\n",
       "    <tr>\n",
       "      <th>2</th>\n",
       "      <td>Accenture</td>\n",
       "      <td>Bengaluru</td>\n",
       "      <td>Management Consulting, Systems Integration and...</td>\n",
       "      <td>Information Technology &amp; Services</td>\n",
       "      <td>INR 10,93,000</td>\n",
       "      <td>//www.accenture.com/india</td>\n",
       "      <td>Accenture is a global professional services co...</td>\n",
       "    </tr>\n",
       "    <tr>\n",
       "      <th>3</th>\n",
       "      <td>Adani Group</td>\n",
       "      <td>Ahmedabad</td>\n",
       "      <td>Asphalt Product Manufacturing</td>\n",
       "      <td>Manufacturing</td>\n",
       "      <td>Not disclosed</td>\n",
       "      <td>www.adani.com</td>\n",
       "      <td>Adani Group has created a world-class transpor...</td>\n",
       "    </tr>\n",
       "    <tr>\n",
       "      <th>4</th>\n",
       "      <td>Adobe</td>\n",
       "      <td>Bengaluru, Noida</td>\n",
       "      <td>Advertising, Analytics, Commerce, Content mana...</td>\n",
       "      <td>Finance, Government, High tech, Media and ente...</td>\n",
       "      <td>INR 28,03,000</td>\n",
       "      <td>https://www.adobe.com/in/</td>\n",
       "      <td>Adobe is a software company that provides its ...</td>\n",
       "    </tr>\n",
       "    <tr>\n",
       "      <th>...</th>\n",
       "      <td>...</td>\n",
       "      <td>...</td>\n",
       "      <td>...</td>\n",
       "      <td>...</td>\n",
       "      <td>...</td>\n",
       "      <td>...</td>\n",
       "      <td>...</td>\n",
       "    </tr>\n",
       "    <tr>\n",
       "      <th>95</th>\n",
       "      <td>UpGrad</td>\n",
       "      <td>Many locations</td>\n",
       "      <td>Data science, Software and technology, Marketi...</td>\n",
       "      <td>Education</td>\n",
       "      <td>INR 12,09,206-26,45,481</td>\n",
       "      <td>https://www.upgrad.com/</td>\n",
       "      <td>UpGrad is an online platform that offers educa...</td>\n",
       "    </tr>\n",
       "    <tr>\n",
       "      <th>96</th>\n",
       "      <td>Urban Company</td>\n",
       "      <td>Bangalore</td>\n",
       "      <td>Internet</td>\n",
       "      <td>IT</td>\n",
       "      <td>Not disclosed</td>\n",
       "      <td>https://www.urbancompany.com/delhi-ncr</td>\n",
       "      <td>Urban Company (formerly UrbanClap) is India an...</td>\n",
       "    </tr>\n",
       "    <tr>\n",
       "      <th>97</th>\n",
       "      <td>Verizon Data Services India</td>\n",
       "      <td>Many locations</td>\n",
       "      <td>5G, 5G labs, 4G LTE, Broadband &amp; fiber, Media ...</td>\n",
       "      <td>Various sectors</td>\n",
       "      <td>INR 12,87,000</td>\n",
       "      <td>https://www.verizon.com/about</td>\n",
       "      <td>Verizon Data Services India is one of the worl...</td>\n",
       "    </tr>\n",
       "    <tr>\n",
       "      <th>98</th>\n",
       "      <td>Wipro</td>\n",
       "      <td>Many locations</td>\n",
       "      <td>Data, Analytics &amp; AI, Digital operations and p...</td>\n",
       "      <td>Aerospace &amp; Defense, Automotive, Banking, Capi...</td>\n",
       "      <td>INR 9,26,000</td>\n",
       "      <td>https://www.wipro.com/</td>\n",
       "      <td>Wipro Limited is a leading global information ...</td>\n",
       "    </tr>\n",
       "    <tr>\n",
       "      <th>99</th>\n",
       "      <td>Zeta Suite</td>\n",
       "      <td>Bengaluru</td>\n",
       "      <td>Authentication and Fraud And Risk Management (...</td>\n",
       "      <td>Banking, Fintech</td>\n",
       "      <td>INR 15,00,000</td>\n",
       "      <td>http://www.zeta.in/</td>\n",
       "      <td>Zeta® is in the business of providing a full-s...</td>\n",
       "    </tr>\n",
       "  </tbody>\n",
       "</table>\n",
       "<p>100 rows × 7 columns</p>\n",
       "</div>"
      ],
      "text/plain": [
       "                   company_name          location  \\\n",
       "0                AB InBev India         Bengaluru   \n",
       "1                   AbsolutData          Gurugram   \n",
       "2                     Accenture         Bengaluru   \n",
       "3                   Adani Group         Ahmedabad   \n",
       "4                         Adobe  Bengaluru, Noida   \n",
       "..                          ...               ...   \n",
       "95                       UpGrad    Many locations   \n",
       "96                Urban Company         Bangalore   \n",
       "97  Verizon Data Services India    Many locations   \n",
       "98                        Wipro    Many locations   \n",
       "99                   Zeta Suite         Bengaluru   \n",
       "\n",
       "                                           focus_area  \\\n",
       "0   FMCG, Beer, Brewing, Marketing, Distribution, ...   \n",
       "1   BigData, Machine Learning, Artificial Intellig...   \n",
       "2   Management Consulting, Systems Integration and...   \n",
       "3                       Asphalt Product Manufacturing   \n",
       "4   Advertising, Analytics, Commerce, Content mana...   \n",
       "..                                                ...   \n",
       "95  Data science, Software and technology, Marketi...   \n",
       "96                                           Internet   \n",
       "97  5G, 5G labs, 4G LTE, Broadband & fiber, Media ...   \n",
       "98  Data, Analytics & AI, Digital operations and p...   \n",
       "99  Authentication and Fraud And Risk Management (...   \n",
       "\n",
       "                                               sector  \\\n",
       "0                                      Consumer Goods   \n",
       "1                   Information Technology & Services   \n",
       "2                   Information Technology & Services   \n",
       "3                                       Manufacturing   \n",
       "4   Finance, Government, High tech, Media and ente...   \n",
       "..                                                ...   \n",
       "95                                          Education   \n",
       "96                                                 IT   \n",
       "97                                    Various sectors   \n",
       "98  Aerospace & Defense, Automotive, Banking, Capi...   \n",
       "99                                   Banking, Fintech   \n",
       "\n",
       "                 avg_salary                                 website  \\\n",
       "0             INR 16,08,000               https://www.ab-inbev.com/   \n",
       "1             INR 10,00,000            https://www.absolutdata.com/   \n",
       "2             INR 10,93,000               //www.accenture.com/india   \n",
       "3             Not disclosed                           www.adani.com   \n",
       "4             INR 28,03,000               https://www.adobe.com/in/   \n",
       "..                      ...                                     ...   \n",
       "95  INR 12,09,206-26,45,481                 https://www.upgrad.com/   \n",
       "96            Not disclosed  https://www.urbancompany.com/delhi-ncr   \n",
       "97            INR 12,87,000           https://www.verizon.com/about   \n",
       "98             INR 9,26,000                  https://www.wipro.com/   \n",
       "99            INR 15,00,000                     http://www.zeta.in/   \n",
       "\n",
       "                                        about_company  \n",
       "0   AB InBev is a multinational beverage and brewi...  \n",
       "1   AbsolutData Research & Analytics provides cons...  \n",
       "2   Accenture is a global professional services co...  \n",
       "3   Adani Group has created a world-class transpor...  \n",
       "4   Adobe is a software company that provides its ...  \n",
       "..                                                ...  \n",
       "95  UpGrad is an online platform that offers educa...  \n",
       "96  Urban Company (formerly UrbanClap) is India an...  \n",
       "97  Verizon Data Services India is one of the worl...  \n",
       "98  Wipro Limited is a leading global information ...  \n",
       "99  Zeta® is in the business of providing a full-s...  \n",
       "\n",
       "[100 rows x 7 columns]"
      ]
     },
     "execution_count": 83,
     "metadata": {},
     "output_type": "execute_result"
    }
   ],
   "source": [
    "df_final_company_desc"
   ]
  },
  {
   "cell_type": "code",
   "execution_count": 85,
   "metadata": {},
   "outputs": [],
   "source": [
    "df_final_company_desc.to_csv('company-wise-data-science-desc.csv',index=False)"
   ]
  },
  {
   "cell_type": "code",
   "execution_count": null,
   "metadata": {},
   "outputs": [],
   "source": []
  }
 ],
 "metadata": {
  "kernelspec": {
   "display_name": "practice-env",
   "language": "python",
   "name": "python3"
  },
  "language_info": {
   "codemirror_mode": {
    "name": "ipython",
    "version": 3
   },
   "file_extension": ".py",
   "mimetype": "text/x-python",
   "name": "python",
   "nbconvert_exporter": "python",
   "pygments_lexer": "ipython3",
   "version": "3.12.1"
  }
 },
 "nbformat": 4,
 "nbformat_minor": 2
}
