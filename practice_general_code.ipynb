{
 "cells": [
  {
   "cell_type": "code",
   "execution_count": 1,
   "metadata": {},
   "outputs": [
    {
     "name": "stdout",
     "output_type": "stream",
     "text": [
      "{'banana': 1, 'blueberry': 2}\n"
     ]
    }
   ],
   "source": [
    "def arrange_and_filter(input_string, start_letter):\n",
    "    # Split the string into words\n",
    "    words = input_string.split()\n",
    "\n",
    "    # Arrange words in alphabetically ascending order\n",
    "    sorted_words = sorted(words)\n",
    "\n",
    "    # Filter words that start with the specified letter\n",
    "    filtered_words = [word for word in sorted_words if word.startswith(start_letter)]\n",
    "\n",
    "    # Create a dictionary with words and their index numbers\n",
    "    result = {word: index for index, word in enumerate(filtered_words, start=1)}\n",
    "\n",
    "    return result\n",
    "\n",
    "# Example usage:\n",
    "input_str = \"apple banana cherry apricot blueberry\"\n",
    "start_letter = \"b\"\n",
    "output = arrange_and_filter(input_str, start_letter)\n",
    "print(output)\n"
   ]
  },
  {
   "cell_type": "code",
   "execution_count": 2,
   "metadata": {},
   "outputs": [
    {
     "name": "stdout",
     "output_type": "stream",
     "text": [
      "[(1, 'banana')]\n"
     ]
    }
   ],
   "source": [
    "def arrange_words_and_get_indices(s, letter):\n",
    "    # Split the string into words\n",
    "    words = s.split()\n",
    "\n",
    "    # Sort the words alphabetically\n",
    "    sorted_words = sorted(words)\n",
    "\n",
    "    # Get the words that start with the given letter and their index numbers\n",
    "    result = [(index, word) for index, word in enumerate(sorted_words) if word.startswith(letter)]\n",
    "\n",
    "    return result\n",
    "\n",
    "# Example usage:\n",
    "s = \"apple banana cherry date egg fruit grape\"\n",
    "letter = \"b\"\n",
    "print(arrange_words_and_get_indices(s, letter))"
   ]
  },
  {
   "cell_type": "code",
   "execution_count": 3,
   "metadata": {},
   "outputs": [
    {
     "name": "stdout",
     "output_type": "stream",
     "text": [
      "[(2, 'example')]\n"
     ]
    }
   ],
   "source": [
    "def find_words_starting_with_letter(input_str, letter):\n",
    "    words = input_str.split()\n",
    "    words.sort()\n",
    "    words_starting_with_letter = [\n",
    "        (i, word) for i, word in enumerate(words) if word.startswith(letter)\n",
    "    ]\n",
    "    return words_starting_with_letter\n",
    "\n",
    "input_str = \"This is an example string\"\n",
    "letter = \"e\"\n",
    "\n",
    "words_starting_with_letter = find_words_starting_with_letter(input_str, letter)\n",
    "print(words_starting_with_letter)"
   ]
  },
  {
   "cell_type": "code",
   "execution_count": null,
   "metadata": {},
   "outputs": [],
   "source": [
    "import java.io.FileWriter;\n",
    "import java.io.IOException;\n",
    "import java.nio.file.Files;\n",
    "import java.nio.file.Path;\n",
    "import java.nio.file.Paths;\n",
    "import java.text.SimpleDateFormat;\n",
    "import java.util.Date;\n",
    "\n",
    "public class CreateFileWithDate {\n",
    "    public static void createFileWithCurrentDate(String pathString) {\n",
    "\n",
    "    try {\n",
    "        // Validate the path to make sure it's not null or empty\n",
    "        if (pathString == null || pathString.isEmpty()) {\n",
    "            throw new IllegalArgumentException(\"Invalid path. Path cannot be null or empty.\");\n",
    "        }\n",
    "\n",
    "        // Create the Path object\n",
    "        Path path = Paths.get(pathString);\n",
    "\n",
    "        // Check if a file already exists at the location\n",
    "        if (Files.exists(path)) {\n",
    "            throw new IOException(\"File already exists: \" + pathString);\n",
    "        }\n",
    "\n",
    "        // Get current date and format it\n",
    "        Date currentDate = new Date();\n",
    "        SimpleDateFormat dateFormat = new SimpleDateFormat(\"yyyy-MM-dd\");\n",
    "        String formattedDate = dateFormat.format(currentDate);\n",
    "\n",
    "        // Create the file and write the date to it\n",
    "        try (FileWriter fileWriter = new FileWriter(pathString)) {\n",
    "            fileWriter.write(formattedDate);\n",
    "        }\n",
    "\n",
    "        System.out.println(\"File created successfully: \" + pathString);\n",
    "\n",
    "    } catch (IOException e) {\n",
    "        System.err.println(\"Error creating file: \" + e.getMessage());\n",
    "    } catch (IllegalArgumentException e) {\n",
    "        System.err.println(\"Invalid input: \" + e.getMessage());\n",
    "    }\n",
    "}\n",
    "}\n",
    "String myFilePath = \"/Users/quantum/Desktop/datefile.txt\";\n",
    "CreateFileWithDate.createFileWithCurrentDate(myFilePath);"
   ]
  },
  {
   "cell_type": "code",
   "execution_count": null,
   "metadata": {},
   "outputs": [],
   "source": [
    "import java.io.File;\n",
    "import java.io.FileWriter;\n",
    "import java.io.IOException;\n",
    "import java.text.SimpleDateFormat;\n",
    "import java.util.Date;\n",
    "\n",
    "public class DateToFile {\n",
    "    /**\n",
    " * Writes the current system date to a file.\n",
    " * @param path The path of the file to write to.\n",
    " * @throws IOException If an I/O error occurs.\n",
    " */\n",
    "public static void writeDateToFile(String path) throws IOException {\n",
    "    if (path == null || path.isEmpty()) {\n",
    "        throw new IllegalArgumentException(\"Path cannot be null or empty.\");\n",
    "    }\n",
    "\n",
    "    File file = new File(path);\n",
    "    \n",
    "    // Create the directories if they don't exist\n",
    "    File parentDir = file.getParentFile();\n",
    "    if (parentDir != null) {\n",
    "        parentDir.mkdirs();\n",
    "    }\n",
    "\n",
    "    // Ensure the file exists; if not, create it.\n",
    "    if (!file.exists()) {\n",
    "        file.createNewFile();\n",
    "    }\n",
    "\n",
    "    // Get current system date\n",
    "    Date currentDate = new Date();\n",
    "    SimpleDateFormat sdf = new SimpleDateFormat(\"yyyy-MM-dd HH:mm:ss\");\n",
    "    String formattedDate = sdf.format(currentDate);\n",
    "\n",
    "    // Write date to file\n",
    "    try (FileWriter writer = new FileWriter(file)) {\n",
    "        writer.write(formattedDate);\n",
    "    }\n",
    "}\n",
    "\n",
    "public static void main(String[] args) {\n",
    "    try {\n",
    "        writeDateToFile(\"/Users/quantum/Desktop/datefile2.txt\");\n",
    "        System.out.println(\"Date written successfully!\");\n",
    "    } catch (IOException e) {\n",
    "        System.err.println(\"Error writing date to file: \" + e.getMessage());\n",
    "    }\n",
    "}\n",
    "}"
   ]
  }
 ],
 "metadata": {
  "kernelspec": {
   "display_name": "practice-env",
   "language": "python",
   "name": "python3"
  },
  "language_info": {
   "codemirror_mode": {
    "name": "ipython",
    "version": 3
   },
   "file_extension": ".py",
   "mimetype": "text/x-python",
   "name": "python",
   "nbconvert_exporter": "python",
   "pygments_lexer": "ipython3",
   "version": "3.12.1"
  }
 },
 "nbformat": 4,
 "nbformat_minor": 2
}
