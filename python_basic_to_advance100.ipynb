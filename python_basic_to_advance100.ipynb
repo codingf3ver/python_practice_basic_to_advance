{
 "cells": [
  {
   "cell_type": "markdown",
   "metadata": {},
   "source": [
    "#### 1. What is the difference between return and yield keywords\n",
    "`Return : The return statement is used to end the execution of a function and return a value to the caller.`\n",
    "\n",
    "`Yeild: When a function with yield is called, it returns an iterator (a generator object), and the function's state is saved.\n",
    " The function can be resumed from where it left off when the next value is requested.`"
   ]
  },
  {
   "cell_type": "code",
   "execution_count": 1,
   "metadata": {},
   "outputs": [
    {
     "name": "stdout",
     "output_type": "stream",
     "text": [
      "7\n"
     ]
    }
   ],
   "source": [
    "def add_numbers(a, b):\n",
    "    result = a + b\n",
    "    return result\n",
    "\n",
    "sum_result = add_numbers(3, 4)\n",
    "print(sum_result)  \n"
   ]
  },
  {
   "cell_type": "code",
   "execution_count": 2,
   "metadata": {},
   "outputs": [
    {
     "name": "stdout",
     "output_type": "stream",
     "text": [
      "0\n"
     ]
    }
   ],
   "source": [
    "def generate_numbers():\n",
    "    for i in range(3):\n",
    "        yield i\n",
    "\n",
    "# Using the generator\n",
    "gen = generate_numbers()\n",
    "print(next(gen))  # Output: 0\n"
   ]
  },
  {
   "cell_type": "code",
   "execution_count": 3,
   "metadata": {},
   "outputs": [
    {
     "name": "stdout",
     "output_type": "stream",
     "text": [
      "1\n"
     ]
    }
   ],
   "source": [
    "print(next(gen))"
   ]
  },
  {
   "cell_type": "code",
   "execution_count": 6,
   "metadata": {},
   "outputs": [
    {
     "name": "stdout",
     "output_type": "stream",
     "text": [
      "yeild:  0\n",
      "from generstor:  0\n",
      "yeild:  1\n",
      "from generstor:  1\n",
      "yeild:  1\n",
      "from generstor:  1\n",
      "yeild:  2\n",
      "from generstor:  2\n",
      "yeild:  3\n",
      "from generstor:  3\n"
     ]
    }
   ],
   "source": [
    "# Anothe example of yeild let's say I you want to create a generator function to generate the Fibonacci sequence:\n",
    "def fibonacci_generator(n):\n",
    "    a, b = 0, 1\n",
    "    count = 0\n",
    "    while count < n:\n",
    "        print('yeild: ',a)\n",
    "        yield a\n",
    "        a, b = b, a + b\n",
    "        count += 1\n",
    "\n",
    "# Using the generator to generate the first 5 Fibonacci numbers\n",
    "fibonacci_gen = fibonacci_generator(5)\n",
    "for number in fibonacci_gen:\n",
    "    print('from generstor: ',number)\n"
   ]
  },
  {
   "cell_type": "markdown",
   "metadata": {},
   "source": [
    "#### 2. What are lambda functions in python\n",
    "`a lambda function is a small anonymous function. You can use lambda functions when you don’t want to define a function using the def keyword.\n",
    "Lambda functions are useful when you need a small function for a short period of time. They are often used in combination with higher-order functions, such as map(), filter(), and reduce() `"
   ]
  },
  {
   "cell_type": "code",
   "execution_count": 15,
   "metadata": {},
   "outputs": [
    {
     "name": "stdout",
     "output_type": "stream",
     "text": [
      "map function:  [1, 4, 9, 16, 25]\n",
      "list comprehension:  [1, 4, 9, 16, 25]\n"
     ]
    }
   ],
   "source": [
    "# The map function applies a given function to all items in an input iterable (e.g., a list) and returns an iterator of the results.\n",
    "numbers = [1, 2, 3, 4, 5]\n",
    "squared_numbers = map(lambda x: x**2, numbers) \n",
    "# Alternate way\n",
    "squared_numbers_comprehension = [ num**2 for num in numbers]\n",
    "print('map function: ',list(squared_numbers))\n",
    "print('list comprehension: ',squared_numbers_comprehension)"
   ]
  },
  {
   "cell_type": "code",
   "execution_count": 17,
   "metadata": {},
   "outputs": [
    {
     "name": "stdout",
     "output_type": "stream",
     "text": [
      "filters :  [2, 4, 6, 8]\n",
      "comprehension :  [2, 4, 6, 8]\n"
     ]
    }
   ],
   "source": [
    "# Using lambda with filter to keep even numbers in a list\n",
    "# The filter function filters elements from an iterable based on a given function (predicate) that returns True or False.\n",
    "numbers = [1, 2, 3, 4, 5, 6, 7, 8, 9]\n",
    "even_numbers = filter(lambda x: x % 2 == 0, numbers)\n",
    "even_numbers_using_comprehension = [num for num in numbers if num%2==0]\n",
    "print('filters : ',list(even_numbers))  \n",
    "print('comprehension : ',even_numbers_using_comprehension)\n"
   ]
  },
  {
   "cell_type": "code",
   "execution_count": 1,
   "metadata": {},
   "outputs": [
    {
     "name": "stdout",
     "output_type": "stream",
     "text": [
      "120\n"
     ]
    }
   ],
   "source": [
    "from functools import reduce\n",
    "\n",
    "# Using lambda with reduce to calculate the product of all elements in a list\n",
    "numbers = [1, 2, 3, 4, 5]\n",
    "product = reduce(lambda x, y: x * y, numbers)\n",
    "print(product)  # Output: 120\n"
   ]
  },
  {
   "cell_type": "code",
   "execution_count": null,
   "metadata": {},
   "outputs": [],
   "source": []
  }
 ],
 "metadata": {
  "kernelspec": {
   "display_name": "practice-env",
   "language": "python",
   "name": "python3"
  },
  "language_info": {
   "codemirror_mode": {
    "name": "ipython",
    "version": 3
   },
   "file_extension": ".py",
   "mimetype": "text/x-python",
   "name": "python",
   "nbconvert_exporter": "python",
   "pygments_lexer": "ipython3",
   "version": "3.12.1"
  }
 },
 "nbformat": 4,
 "nbformat_minor": 2
}
