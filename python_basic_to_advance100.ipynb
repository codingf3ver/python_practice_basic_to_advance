{
 "cells": [
  {
   "cell_type": "markdown",
   "metadata": {},
   "source": [
    "#### 1. What is the difference between return and yield keywords\n",
    "`Return : The return statement is used to end the execution of a function and return a value to the caller.`\n",
    "\n",
    "`Yeild: When a function with yield is called, it returns an iterator (a generator object), and the function's state is saved.\n",
    " The function can be resumed from where it left off when the next value is requested.`"
   ]
  },
  {
   "cell_type": "code",
   "execution_count": 1,
   "metadata": {},
   "outputs": [
    {
     "name": "stdout",
     "output_type": "stream",
     "text": [
      "7\n"
     ]
    }
   ],
   "source": [
    "def add_numbers(a, b):\n",
    "    result = a + b\n",
    "    return result\n",
    "\n",
    "sum_result = add_numbers(3, 4)\n",
    "print(sum_result)  \n"
   ]
  },
  {
   "cell_type": "code",
   "execution_count": 2,
   "metadata": {},
   "outputs": [
    {
     "name": "stdout",
     "output_type": "stream",
     "text": [
      "0\n"
     ]
    }
   ],
   "source": [
    "def generate_numbers():\n",
    "    for i in range(3):\n",
    "        yield i\n",
    "\n",
    "# Using the generator\n",
    "gen = generate_numbers()\n",
    "print(next(gen))  # Output: 0\n"
   ]
  },
  {
   "cell_type": "code",
   "execution_count": 3,
   "metadata": {},
   "outputs": [
    {
     "name": "stdout",
     "output_type": "stream",
     "text": [
      "1\n"
     ]
    }
   ],
   "source": [
    "print(next(gen))"
   ]
  },
  {
   "cell_type": "code",
   "execution_count": 6,
   "metadata": {},
   "outputs": [
    {
     "name": "stdout",
     "output_type": "stream",
     "text": [
      "yeild:  0\n",
      "from generstor:  0\n",
      "yeild:  1\n",
      "from generstor:  1\n",
      "yeild:  1\n",
      "from generstor:  1\n",
      "yeild:  2\n",
      "from generstor:  2\n",
      "yeild:  3\n",
      "from generstor:  3\n"
     ]
    }
   ],
   "source": [
    "# Anothe example of yeild let's say I you want to create a generator function to generate the Fibonacci sequence:\n",
    "def fibonacci_generator(n):\n",
    "    a, b = 0, 1\n",
    "    count = 0\n",
    "    while count < n:\n",
    "        print('yeild: ',a)\n",
    "        yield a\n",
    "        a, b = b, a + b\n",
    "        count += 1\n",
    "\n",
    "# Using the generator to generate the first 5 Fibonacci numbers\n",
    "fibonacci_gen = fibonacci_generator(5)\n",
    "for number in fibonacci_gen:\n",
    "    print('from generstor: ',number)\n"
   ]
  },
  {
   "cell_type": "markdown",
   "metadata": {},
   "source": [
    "#### 2. What are lambda functions in python\n",
    "`a lambda function is a small anonymous function. You can use lambda functions when you don’t want to define a function using the def keyword.\n",
    "Lambda functions are useful when you need a small function for a short period of time. They are often used in combination with higher-order functions, such as map(), filter(), and reduce() `"
   ]
  },
  {
   "cell_type": "code",
   "execution_count": 15,
   "metadata": {},
   "outputs": [
    {
     "name": "stdout",
     "output_type": "stream",
     "text": [
      "map function:  [1, 4, 9, 16, 25]\n",
      "list comprehension:  [1, 4, 9, 16, 25]\n"
     ]
    }
   ],
   "source": [
    "# The map function applies a given function to all items in an input iterable (e.g., a list) and returns an iterator of the results.\n",
    "numbers = [1, 2, 3, 4, 5]\n",
    "squared_numbers = map(lambda x: x**2, numbers) \n",
    "# Alternate way\n",
    "squared_numbers_comprehension = [ num**2 for num in numbers]\n",
    "print('map function: ',list(squared_numbers))\n",
    "print('list comprehension: ',squared_numbers_comprehension)"
   ]
  },
  {
   "cell_type": "code",
   "execution_count": 17,
   "metadata": {},
   "outputs": [
    {
     "name": "stdout",
     "output_type": "stream",
     "text": [
      "filters :  [2, 4, 6, 8]\n",
      "comprehension :  [2, 4, 6, 8]\n"
     ]
    }
   ],
   "source": [
    "# Using lambda with filter to keep even numbers in a list\n",
    "# The filter function filters elements from an iterable based on a given function (predicate) that returns True or False.\n",
    "numbers = [1, 2, 3, 4, 5, 6, 7, 8, 9]\n",
    "even_numbers = filter(lambda x: x % 2 == 0, numbers)\n",
    "even_numbers_using_comprehension = [num for num in numbers if num%2==0]\n",
    "print('filters : ',list(even_numbers))  \n",
    "print('comprehension : ',even_numbers_using_comprehension)\n"
   ]
  },
  {
   "cell_type": "code",
   "execution_count": 2,
   "metadata": {},
   "outputs": [
    {
     "name": "stdout",
     "output_type": "stream",
     "text": [
      "120\n"
     ]
    }
   ],
   "source": [
    "# The reduce function, which was moved to the functools module in Python 3, applies a binary function cumulatively to the items of an iterable, reducing it to a single value.\n",
    "# Using lambda with reduce to calculate the product of all elements in a list\n",
    "\n",
    "from functools import reduce\n",
    "numbers = [1, 2, 3, 4, 5]\n",
    "product = reduce(lambda x, y: x * y, numbers)\n",
    "print(product)  # Output: 120\n"
   ]
  },
  {
   "cell_type": "markdown",
   "metadata": {},
   "source": [
    "#### 3. ‘assert’ keyword in python"
   ]
  },
  {
   "cell_type": "code",
   "execution_count": 9,
   "metadata": {},
   "outputs": [],
   "source": [
    "# the assert keyword is used as a debugging aid and a form of defensive programming. It is a statement that asserts the truth of a particular expression.\n",
    "# If the expression following assert evaluates to False, an AssertionError exception is raised, indicating a bug in the program.\n",
    "\n",
    "def divide(a, b):\n",
    "    assert b != 0, \"Cannot divide by zero\"\n",
    "    return a / b\n",
    "\n",
    "# contractual program\n",
    "def calculate_square_root(x):\n",
    "    assert x >= 0, \"Input must be non-negative\"\n",
    "    return x ** 0.5\n",
    "\n",
    "# unit testing\n",
    "def test_addition():\n",
    "    assert divide(2, 3) == 5, \"Addition test failed\""
   ]
  },
  {
   "cell_type": "markdown",
   "metadata": {},
   "source": [
    "#### 4. Decorators in python"
   ]
  },
  {
   "cell_type": "code",
   "execution_count": null,
   "metadata": {},
   "outputs": [],
   "source": [
    "# decorators are a powerful and flexible way to modify or extend the behavior of functions or methods without changing their actual code.\n",
    "# Decorators allow you to wrap a function or method with another function, commonly referred to as the \"decorator function.\" This enables you to add functionality, \n",
    "# alter behavior, or perform setup and teardown operations around the target function.\n"
   ]
  },
  {
   "cell_type": "code",
   "execution_count": 11,
   "metadata": {},
   "outputs": [
    {
     "name": "stdout",
     "output_type": "stream",
     "text": [
      "Function executed.\n",
      "slow_function took 2.00395 seconds to execute.\n"
     ]
    }
   ],
   "source": [
    "# Timing decorators\n",
    "import time\n",
    "\n",
    "def timing_decorator(func):\n",
    "    def wrapper(*args, **kwargs):\n",
    "        start_time = time.time()\n",
    "        result = func(*args, **kwargs)\n",
    "        end_time = time.time()\n",
    "        print(f\"{func.__name__} took {end_time - start_time:.5f} seconds to execute.\")\n",
    "        return result\n",
    "    return wrapper\n",
    "\n",
    "@timing_decorator\n",
    "def slow_function():\n",
    "    time.sleep(2)\n",
    "    print(\"Function executed.\")\n",
    "\n",
    "# Calling the decorated function\n",
    "slow_function()"
   ]
  },
  {
   "cell_type": "code",
   "execution_count": 16,
   "metadata": {},
   "outputs": [
    {
     "name": "stdout",
     "output_type": "stream",
     "text": [
      "Reading data.\n",
      "Writing data.\n",
      "Permission denied for read write.\n"
     ]
    }
   ],
   "source": [
    "# Authorization decorators\n",
    "def authorize(permission):\n",
    "    def decorator(func):\n",
    "        def wrapper(*args, **kwargs):\n",
    "            if check_permission(permission):\n",
    "                return func(*args, **kwargs)\n",
    "            else:\n",
    "                print(f\"Permission denied for {permission}.\")\n",
    "        return wrapper\n",
    "    return decorator\n",
    "\n",
    "def check_permission(permission):\n",
    "    return permission in [\"read\", \"write\"]\n",
    "\n",
    "\n",
    "@authorize(\"read\")\n",
    "def read_data():\n",
    "    print(\"Reading data.\")\n",
    "# above decorators actually works like -> read_data = authorize('read')(write_data)\n",
    "    \n",
    "@authorize(\"write\")\n",
    "def write_data():\n",
    "    print(\"Writing data.\")\n",
    "# above decorators actually works like -> write_data = authorize(\"write\")(write_data)\n",
    "    \n",
    "@authorize(\"read write\")\n",
    "def read_and_write():\n",
    "    print(\"Reading and Writing data.\")\n",
    "\n",
    "read_data()  \n",
    "write_data() \n",
    "read_and_write()"
   ]
  },
  {
   "cell_type": "code",
   "execution_count": 17,
   "metadata": {},
   "outputs": [
    {
     "name": "stdout",
     "output_type": "stream",
     "text": [
      "55\n"
     ]
    }
   ],
   "source": [
    "#memoize \n",
    "def memoize(func):\n",
    "    memo = {}\n",
    "\n",
    "    def wrapper(*args): # args is actually func(arg) -> (args,) argument of fibonacci function \n",
    "        if args not in memo:\n",
    "            memo[args] = func(*args)\n",
    "        return memo[args]\n",
    "\n",
    "    return wrapper\n",
    "\n",
    "@memoize\n",
    "def fibonacci(n):\n",
    "    if n <= 1:\n",
    "        return n\n",
    "    else:\n",
    "        return fibonacci(n - 1) + fibonacci(n - 2)\n",
    "\n",
    "# Calling the decorated function\n",
    "print(fibonacci(10))  # Output: 55\n"
   ]
  },
  {
   "cell_type": "code",
   "execution_count": null,
   "metadata": {},
   "outputs": [],
   "source": []
  }
 ],
 "metadata": {
  "kernelspec": {
   "display_name": "practice-env",
   "language": "python",
   "name": "python3"
  },
  "language_info": {
   "codemirror_mode": {
    "name": "ipython",
    "version": 3
   },
   "file_extension": ".py",
   "mimetype": "text/x-python",
   "name": "python",
   "nbconvert_exporter": "python",
   "pygments_lexer": "ipython3",
   "version": "3.12.1"
  }
 },
 "nbformat": 4,
 "nbformat_minor": 2
}
